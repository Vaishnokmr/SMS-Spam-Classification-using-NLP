{
 "cells": [
  {
   "cell_type": "code",
   "execution_count": 1,
   "id": "a44370c1-c63d-44bc-b0f4-efaa3c3ebc82",
   "metadata": {},
   "outputs": [],
   "source": [
    "import pandas as pd\n",
    "import numpy as np\n",
    "import nltk"
   ]
  },
  {
   "cell_type": "markdown",
   "id": "aa9cd205-4524-4e7b-a367-178a513ee036",
   "metadata": {},
   "source": [
    "## Load the Dataset"
   ]
  },
  {
   "cell_type": "code",
   "execution_count": 2,
   "id": "878a43ca-a5c5-4ff8-ad8f-69a965a83265",
   "metadata": {},
   "outputs": [
    {
     "data": {
      "text/html": [
       "<div>\n",
       "<style scoped>\n",
       "    .dataframe tbody tr th:only-of-type {\n",
       "        vertical-align: middle;\n",
       "    }\n",
       "\n",
       "    .dataframe tbody tr th {\n",
       "        vertical-align: top;\n",
       "    }\n",
       "\n",
       "    .dataframe thead th {\n",
       "        text-align: right;\n",
       "    }\n",
       "</style>\n",
       "<table border=\"1\" class=\"dataframe\">\n",
       "  <thead>\n",
       "    <tr style=\"text-align: right;\">\n",
       "      <th></th>\n",
       "      <th>0</th>\n",
       "      <th>1</th>\n",
       "    </tr>\n",
       "  </thead>\n",
       "  <tbody>\n",
       "    <tr>\n",
       "      <th>0</th>\n",
       "      <td>ham</td>\n",
       "      <td>Go until jurong point, crazy.. Available only ...</td>\n",
       "    </tr>\n",
       "    <tr>\n",
       "      <th>1</th>\n",
       "      <td>ham</td>\n",
       "      <td>Ok lar... Joking wif u oni...</td>\n",
       "    </tr>\n",
       "    <tr>\n",
       "      <th>2</th>\n",
       "      <td>spam</td>\n",
       "      <td>Free entry in 2 a wkly comp to win FA Cup fina...</td>\n",
       "    </tr>\n",
       "    <tr>\n",
       "      <th>3</th>\n",
       "      <td>ham</td>\n",
       "      <td>U dun say so early hor... U c already then say...</td>\n",
       "    </tr>\n",
       "    <tr>\n",
       "      <th>4</th>\n",
       "      <td>ham</td>\n",
       "      <td>Nah I don't think he goes to usf, he lives aro...</td>\n",
       "    </tr>\n",
       "  </tbody>\n",
       "</table>\n",
       "</div>"
      ],
      "text/plain": [
       "      0                                                  1\n",
       "0   ham  Go until jurong point, crazy.. Available only ...\n",
       "1   ham                      Ok lar... Joking wif u oni...\n",
       "2  spam  Free entry in 2 a wkly comp to win FA Cup fina...\n",
       "3   ham  U dun say so early hor... U c already then say...\n",
       "4   ham  Nah I don't think he goes to usf, he lives aro..."
      ]
     },
     "execution_count": 2,
     "metadata": {},
     "output_type": "execute_result"
    }
   ],
   "source": [
    "df=pd.read_table(\"SMSSpamCollection\",header=None,encoding='utf-8')\n",
    "df.head()"
   ]
  },
  {
   "cell_type": "code",
   "execution_count": 3,
   "id": "f74e8765-8365-4420-9a95-5a25e8f104b5",
   "metadata": {},
   "outputs": [
    {
     "name": "stdout",
     "output_type": "stream",
     "text": [
      "<class 'pandas.core.frame.DataFrame'>\n",
      "RangeIndex: 5572 entries, 0 to 5571\n",
      "Data columns (total 2 columns):\n",
      " #   Column  Non-Null Count  Dtype \n",
      "---  ------  --------------  ----- \n",
      " 0   0       5572 non-null   object\n",
      " 1   1       5572 non-null   object\n",
      "dtypes: object(2)\n",
      "memory usage: 87.2+ KB\n"
     ]
    }
   ],
   "source": [
    "df.info()"
   ]
  },
  {
   "cell_type": "code",
   "execution_count": 4,
   "id": "4df1036b-0b90-4584-9fac-f77534a9caf1",
   "metadata": {},
   "outputs": [
    {
     "data": {
      "text/plain": [
       "0     1                                                                                                                                                                                                                                    \n",
       "ham   Sorry, I'll call later                                                                                                                                                                                                                   30\n",
       "      I cant pick the phone right now. Pls send a message                                                                                                                                                                                      12\n",
       "      Ok...                                                                                                                                                                                                                                    10\n",
       "      Wen ur lovable bcums angry wid u, dnt take it seriously.. Coz being angry is d most childish n true way of showing deep affection, care n luv!.. kettoda manda... Have nice day da.                                                       4\n",
       "      Ok.                                                                                                                                                                                                                                       4\n",
       "                                                                                                                                                                                                                                               ..\n",
       "      I was about to do it when i texted. I finished a long time ago and showered and er'ything!                                                                                                                                                1\n",
       "      I wanted to wish you a Happy New Year and I wanted to talk to you about some legal advice to do with when Gary and I split but in person. I'll make a trip to Ptbo for that. I hope everything is good with you babe and I love ya :)     1\n",
       "      I wanted to ask ü to wait 4 me to finish lect. Cos my lect finishes in an hour anyway.                                                                                                                                                    1\n",
       "      I want to tell you how bad I feel that basically the only times I text you lately are when I need drugs                                                                                                                                   1\n",
       "spam  we tried to contact you re your response to our offer of a new nokia fone and camcorder hit reply or call 08000930705 for delivery                                                                                                        1\n",
       "Length: 5169, dtype: int64"
      ]
     },
     "execution_count": 4,
     "metadata": {},
     "output_type": "execute_result"
    }
   ],
   "source": [
    "df.value_counts()"
   ]
  },
  {
   "cell_type": "code",
   "execution_count": 5,
   "id": "3c5e7251-32e8-443c-aff5-251d2b0dc305",
   "metadata": {},
   "outputs": [
    {
     "data": {
      "text/plain": [
       "ham     4825\n",
       "spam     747\n",
       "Name: 0, dtype: int64"
      ]
     },
     "execution_count": 5,
     "metadata": {},
     "output_type": "execute_result"
    }
   ],
   "source": [
    "classes=df[0]\n",
    "classes.value_counts()"
   ]
  },
  {
   "cell_type": "markdown",
   "id": "39b9ac2a-5b17-455b-9033-7b63840b8c96",
   "metadata": {},
   "source": [
    "## Preprocessing the Data"
   ]
  },
  {
   "cell_type": "code",
   "execution_count": 6,
   "id": "64a21ac0-99a1-48b1-9f5e-37185c4db7b2",
   "metadata": {},
   "outputs": [
    {
     "name": "stdout",
     "output_type": "stream",
     "text": [
      "0     ham\n",
      "1     ham\n",
      "2    spam\n",
      "3     ham\n",
      "4     ham\n",
      "5    spam\n",
      "6     ham\n",
      "7     ham\n",
      "8    spam\n",
      "9    spam\n",
      "Name: 0, dtype: object\n",
      "[0 0 1 0 0 1 0 0 1 1]\n"
     ]
    }
   ],
   "source": [
    "from sklearn.preprocessing import LabelEncoder\n",
    "encoder=LabelEncoder()\n",
    "y=encoder.fit_transform(classes)\n",
    "\n",
    "\n",
    "print(classes[:10])\n",
    "print(y[:10])"
   ]
  },
  {
   "cell_type": "code",
   "execution_count": 7,
   "id": "38d273d6-0497-4180-9f9d-b60070440028",
   "metadata": {},
   "outputs": [
    {
     "data": {
      "text/plain": [
       "0    Go until jurong point, crazy.. Available only ...\n",
       "1                        Ok lar... Joking wif u oni...\n",
       "2    Free entry in 2 a wkly comp to win FA Cup fina...\n",
       "3    U dun say so early hor... U c already then say...\n",
       "4    Nah I don't think he goes to usf, he lives aro...\n",
       "5    FreeMsg Hey there darling it's been 3 week's n...\n",
       "6    Even my brother is not like to speak with me. ...\n",
       "7    As per your request 'Melle Melle (Oru Minnamin...\n",
       "8    WINNER!! As a valued network customer you have...\n",
       "9    Had your mobile 11 months or more? U R entitle...\n",
       "Name: 1, dtype: object"
      ]
     },
     "execution_count": 7,
     "metadata": {},
     "output_type": "execute_result"
    }
   ],
   "source": [
    "text_messages = df[1]\n",
    "text_messages[:10]"
   ]
  },
  {
   "cell_type": "code",
   "execution_count": 8,
   "id": "15202878-c0fc-40d9-8ae9-8668944aac7c",
   "metadata": {},
   "outputs": [
    {
     "name": "stderr",
     "output_type": "stream",
     "text": [
      "<ipython-input-8-827fa05b30f7>:3: FutureWarning: The default value of regex will change from True to False in a future version.\n",
      "  processed=text_messages.str.replace(r'^.+@[^\\.].*\\.[a-z]{2,}$','emailaddr')\n",
      "<ipython-input-8-827fa05b30f7>:5: FutureWarning: The default value of regex will change from True to False in a future version.\n",
      "  processed=processed.str.replace(r'^http\\://[a-zA-Z0-9\\-\\.]+\\.[a-zA-Z]{2,3}(/\\S*)?$','webaddr')\n",
      "<ipython-input-8-827fa05b30f7>:7: FutureWarning: The default value of regex will change from True to False in a future version.\n",
      "  processed=processed.str.replace(r'£|\\$','moneysymbol')\n",
      "<ipython-input-8-827fa05b30f7>:9: FutureWarning: The default value of regex will change from True to False in a future version.\n",
      "  processed=processed.str.replace(r'^(\\(?\\+?[0-9]*\\)?)?[0-9_\\- \\(\\)]*$','phonenumber')\n",
      "<ipython-input-8-827fa05b30f7>:11: FutureWarning: The default value of regex will change from True to False in a future version.\n",
      "  processed=processed.str.replace(r'\\d+(\\.\\d+)?','number')\n"
     ]
    }
   ],
   "source": [
    "import re \n",
    "#replace email\n",
    "processed=text_messages.str.replace(r'^.+@[^\\.].*\\.[a-z]{2,}$','emailaddr')\n",
    "#replace url\n",
    "processed=processed.str.replace(r'^http\\://[a-zA-Z0-9\\-\\.]+\\.[a-zA-Z]{2,3}(/\\S*)?$','webaddr')\n",
    "#replace moneysym\n",
    "processed=processed.str.replace(r'£|\\$','moneysymbol')\n",
    "#replace phonenumber\n",
    "processed=processed.str.replace(r'^(\\(?\\+?[0-9]*\\)?)?[0-9_\\- \\(\\)]*$','phonenumber')\n",
    "#replace normal number\n",
    "processed=processed.str.replace(r'\\d+(\\.\\d+)?','number')"
   ]
  },
  {
   "cell_type": "code",
   "execution_count": 9,
   "id": "15f51392-3aff-4fae-a40d-46a7bb357bcc",
   "metadata": {},
   "outputs": [
    {
     "name": "stderr",
     "output_type": "stream",
     "text": [
      "<ipython-input-9-d168d301891f>:2: FutureWarning: The default value of regex will change from True to False in a future version.\n",
      "  processed=processed.str.replace(r'[^\\w\\d\\s]',' ')\n",
      "<ipython-input-9-d168d301891f>:5: FutureWarning: The default value of regex will change from True to False in a future version.\n",
      "  processed=processed.str.replace(r'\\s+',' ')\n",
      "<ipython-input-9-d168d301891f>:8: FutureWarning: The default value of regex will change from True to False in a future version.\n",
      "  processed=processed.str.replace(r'^\\s+|\\s+?$',' ')\n"
     ]
    }
   ],
   "source": [
    "#remove punctuation\n",
    "processed=processed.str.replace(r'[^\\w\\d\\s]',' ')\n",
    "\n",
    "#removce whitespace\n",
    "processed=processed.str.replace(r'\\s+',' ')\n",
    "\n",
    "#remove leading and trailing whitespace\n",
    "processed=processed.str.replace(r'^\\s+|\\s+?$',' ')\n"
   ]
  },
  {
   "cell_type": "code",
   "execution_count": 10,
   "id": "9b021aaf-b792-46a9-b628-884d4a2f9d67",
   "metadata": {},
   "outputs": [
    {
     "data": {
      "text/plain": [
       "0       go until jurong point crazy available only in ...\n",
       "1                                ok lar joking wif u oni \n",
       "2       free entry in number a wkly comp to win fa cup...\n",
       "3            u dun say so early hor u c already then say \n",
       "4       nah i don t think he goes to usf he lives arou...\n",
       "                              ...                        \n",
       "5567    this is the numbernd time we have tried number...\n",
       "5568                 will ü b going to esplanade fr home \n",
       "5569    pity was in mood for that so any other suggest...\n",
       "5570    the guy did some bitching but i acted like i d...\n",
       "5571                            rofl its true to its name\n",
       "Name: 1, Length: 5572, dtype: object"
      ]
     },
     "execution_count": 10,
     "metadata": {},
     "output_type": "execute_result"
    }
   ],
   "source": [
    "#change word to lower case\n",
    "processed=processed.str.lower()\n",
    "processed"
   ]
  },
  {
   "cell_type": "code",
   "execution_count": 11,
   "id": "dbfc85aa-c875-48d1-8af3-88522dd2f842",
   "metadata": {},
   "outputs": [],
   "source": [
    "#remove stopword fromtext message\n",
    "from nltk.corpus import stopwords\n",
    "\n",
    "stop_words=set(stopwords.words('english'))\n",
    "\n",
    "processed=processed.apply(lambda x : ' '.join(term for term  in x.split() if term not in stop_words))"
   ]
  },
  {
   "cell_type": "code",
   "execution_count": 12,
   "id": "5443164b-6b78-4a6f-a4d7-02790202c8e3",
   "metadata": {},
   "outputs": [],
   "source": [
    "#remove word stems using Porter stemmer \n",
    "ps=nltk.PorterStemmer()\n",
    "processed=processed.apply(lambda x : ' '.join(ps.stem(term) for term in x.split()))"
   ]
  },
  {
   "cell_type": "code",
   "execution_count": 13,
   "id": "53589824-af33-474d-aaba-eea60fc840ee",
   "metadata": {},
   "outputs": [
    {
     "data": {
      "text/plain": [
       "0    go jurong point crazi avail bugi n great world...\n",
       "1                                ok lar joke wif u oni\n",
       "2    free entri number wkli comp win fa cup final t...\n",
       "3                  u dun say earli hor u c alreadi say\n",
       "4                 nah think goe usf live around though\n",
       "5    freemsg hey darl number week word back like fu...\n",
       "6        even brother like speak treat like aid patent\n",
       "7    per request mell mell oru minnaminungint nurun...\n",
       "8    winner valu network custom select receivea mon...\n",
       "9    mobil number month u r entitl updat latest col...\n",
       "Name: 1, dtype: object"
      ]
     },
     "execution_count": 13,
     "metadata": {},
     "output_type": "execute_result"
    }
   ],
   "source": [
    "processed[:10]"
   ]
  },
  {
   "cell_type": "code",
   "execution_count": 14,
   "id": "e6bb2b96-b039-472a-8404-efce4f8ebb90",
   "metadata": {},
   "outputs": [],
   "source": [
    "from nltk.tokenize import word_tokenize\n",
    "\n",
    "#creating bag of words\n",
    "all_words=[]\n",
    "\n",
    "for message in processed:\n",
    "    words=word_tokenize(message)\n",
    "    for w in words:\n",
    "        all_words.append(w)\n",
    "all_words=nltk.FreqDist(all_words)"
   ]
  },
  {
   "cell_type": "code",
   "execution_count": 15,
   "id": "44005c52-4d5d-4c25-b698-e0ca088fb9e0",
   "metadata": {},
   "outputs": [
    {
     "name": "stdout",
     "output_type": "stream",
     "text": [
      "Number of words 6574\n",
      "Most Common Words [('number', 2758), ('u', 1207), ('call', 674), ('go', 456), ('get', 451), ('ur', 391), ('gt', 318), ('lt', 316), ('come', 304), ('moneysymbolnumb', 303), ('ok', 293), ('free', 284), ('day', 276), ('know', 275), ('love', 266)]\n"
     ]
    }
   ],
   "source": [
    "print(f'Number of words',len(all_words))\n",
    "print(f'Most Common Words',all_words.most_common(15))"
   ]
  },
  {
   "cell_type": "code",
   "execution_count": 16,
   "id": "ae55b3e2-bbcf-457e-8659-ce41c643b30f",
   "metadata": {},
   "outputs": [],
   "source": [
    "#use the most common words  as features\n",
    "word_features=list(all_words.keys())[:1500]"
   ]
  },
  {
   "cell_type": "code",
   "execution_count": 17,
   "id": "a23047d5-9743-41c7-8d13-86cd485d9c69",
   "metadata": {},
   "outputs": [
    {
     "name": "stdout",
     "output_type": "stream",
     "text": [
      "go\n",
      "jurong\n",
      "point\n",
      "crazi\n",
      "avail\n",
      "bugi\n",
      "n\n",
      "great\n",
      "world\n",
      "la\n",
      "e\n",
      "buffet\n",
      "cine\n",
      "got\n",
      "amor\n",
      "wat\n"
     ]
    }
   ],
   "source": [
    "#define a find_features functionj\n",
    "def find_features(message):\n",
    "    words=word_tokenize(message)\n",
    "    features={}\n",
    "    for word in word_features:\n",
    "        features[word]=(word in words)\n",
    "    return features \n",
    "\n",
    "\n",
    "features=find_features(processed[0])\n",
    "for key,value in features.items():\n",
    "    if value==True:\n",
    "        print (key)"
   ]
  },
  {
   "cell_type": "code",
   "execution_count": 18,
   "id": "4f8f478f-948b-4f42-9658-918e17afd153",
   "metadata": {},
   "outputs": [
    {
     "data": {
      "text/plain": [
       "'go jurong point crazi avail bugi n great world la e buffet cine got amor wat'"
      ]
     },
     "execution_count": 18,
     "metadata": {},
     "output_type": "execute_result"
    }
   ],
   "source": [
    "processed[0]"
   ]
  },
  {
   "cell_type": "code",
   "execution_count": 19,
   "id": "daaa8f08-132d-4159-bf0e-68858914fb4b",
   "metadata": {},
   "outputs": [],
   "source": [
    "message=list(zip(processed,y))\n",
    "seed=1\n",
    "np.random.seed=seed\n",
    "np.random.shuffle(message)\n",
    "\n",
    "featuresets=[(find_features(text),label) for (text,label) in message]"
   ]
  },
  {
   "cell_type": "code",
   "execution_count": 20,
   "id": "5872689a-9dfc-46f1-8af0-1e3f515ade42",
   "metadata": {},
   "outputs": [],
   "source": [
    "from sklearn import model_selection"
   ]
  },
  {
   "cell_type": "code",
   "execution_count": 21,
   "id": "6658e43a-e8f1-49bf-97c8-aa8b872ee344",
   "metadata": {},
   "outputs": [],
   "source": [
    "training,testing=model_selection.train_test_split(featuresets,test_size=0.25,random_state=seed)"
   ]
  },
  {
   "cell_type": "code",
   "execution_count": 22,
   "id": "3533eefd-d571-4747-b205-4360e8ba3803",
   "metadata": {},
   "outputs": [
    {
     "name": "stdout",
     "output_type": "stream",
     "text": [
      "training data length: 4179\n",
      "testing data length: 1393\n"
     ]
    }
   ],
   "source": [
    "print(f'training data length:',len(training))\n",
    "print(f'testing data length:',len(testing))"
   ]
  },
  {
   "cell_type": "markdown",
   "id": "e09a9043-beed-45ac-a9c9-5455e24dfa96",
   "metadata": {},
   "source": [
    "## SKLearn  classifiers  with NLTK"
   ]
  },
  {
   "cell_type": "code",
   "execution_count": 23,
   "id": "7bb9be84-9444-4608-bbeb-22c1845514cb",
   "metadata": {},
   "outputs": [],
   "source": [
    "from sklearn.neighbors import  KNeighborsClassifier"
   ]
  },
  {
   "cell_type": "code",
   "execution_count": 24,
   "id": "5581a59b-179b-4d16-a07f-3f6ce1ffa1fa",
   "metadata": {},
   "outputs": [],
   "source": [
    "from sklearn.tree         import  DecisionTreeClassifier\n",
    "from sklearn.ensemble     import  RandomForestClassifier\n",
    "from sklearn.linear_model import  LogisticRegression,SGDClassifier\n",
    "from sklearn.naive_bayes  import  MultinomialNB\n",
    "from sklearn.svm          import  SVC\n",
    "from sklearn.metrics      import  classification_report,accuracy_score,confusion_matrix"
   ]
  },
  {
   "cell_type": "code",
   "execution_count": 25,
   "id": "0ac13121-15ca-49dd-9031-0a06915e8187",
   "metadata": {},
   "outputs": [
    {
     "name": "stdout",
     "output_type": "stream",
     "text": [
      "<zip object at 0x0000021A98907600>\n"
     ]
    }
   ],
   "source": [
    "names=['K Nearest Neighbors','Decision Tree','Random Forest','Logistic Regression','SGD Classifier','Naive Bayes','SVM Linear']\n",
    "classifier=[KNeighborsClassifier(),\n",
    "            DecisionTreeClassifier(),\n",
    "            RandomForestClassifier(),\n",
    "            LogisticRegression(),\n",
    "            SGDClassifier(max_iter=100),\n",
    "            MultinomialNB(),\n",
    "            SVC(kernel='linear')]\n",
    "models=zip(names,classifier)\n",
    "print(models)"
   ]
  },
  {
   "cell_type": "code",
   "execution_count": 26,
   "id": "017e8e3f-54e6-43f2-92af-f95e04057474",
   "metadata": {},
   "outputs": [],
   "source": [
    "from nltk.classify.scikitlearn import SklearnClassifier"
   ]
  },
  {
   "cell_type": "code",
   "execution_count": 27,
   "id": "f848449b-3ca9-4d56-97c8-180ba87ebb94",
   "metadata": {},
   "outputs": [
    {
     "name": "stdout",
     "output_type": "stream",
     "text": [
      "K Nearest Neighbors: Accuracy 93.96984924623115\n",
      "Decision Tree: Accuracy 97.4156496769562\n",
      "Random Forest: Accuracy 98.20531227566404\n",
      "Logistic Regression: Accuracy 98.63603732950466\n",
      "SGD Classifier: Accuracy 98.27709978463747\n",
      "Naive Bayes: Accuracy 98.06173725771716\n",
      "SVM Linear: Accuracy 98.49246231155779\n"
     ]
    }
   ],
   "source": [
    "for name,model in models:\n",
    "    nltk_model=SklearnClassifier(model)\n",
    "    nltk_model.train(training)\n",
    "    accuracy=nltk.classify.accuracy(nltk_model,testing)*100\n",
    "    print('{}: Accuracy {}'.format(name,accuracy))"
   ]
  },
  {
   "cell_type": "code",
   "execution_count": 28,
   "id": "4a05678e-400e-4e47-84dd-dfc2bce96a80",
   "metadata": {},
   "outputs": [],
   "source": [
    "#voting classifier\n",
    "from sklearn.ensemble import VotingClassifier\n",
    "\n",
    "\n",
    "names=['K Nearest Neighbors','Decision Tree','Random Forest','Logistic Regression','SGD Classifier','Naive Bayes','SVM Linear']\n",
    "classifier=[KNeighborsClassifier(),DecisionTreeClassifier(),RandomForestClassifier(),LogisticRegression(),SGDClassifier(max_iter=100),MultinomialNB(),SVC(kernel='linear')]\n",
    "models=zip(names,classifier)\n",
    "\n"
   ]
  },
  {
   "cell_type": "code",
   "execution_count": 29,
   "id": "8817b842-bda8-4d0e-9f82-f7ddf0420141",
   "metadata": {},
   "outputs": [
    {
     "name": "stdout",
     "output_type": "stream",
     "text": [
      "Ensemble Method Accuracy : 98.42067480258436 \n"
     ]
    }
   ],
   "source": [
    "nltk_ensemble=SklearnClassifier(VotingClassifier(estimators=list(models),voting='hard',n_jobs=-1))\n",
    "\n",
    "\n",
    "nltk_ensemble.train(training)\n",
    "accuracy=nltk.classify.accuracy(nltk_ensemble, testing)*100\n",
    "print('Ensemble Method Accuracy : {} '.format(accuracy))"
   ]
  },
  {
   "cell_type": "code",
   "execution_count": 30,
   "id": "7f357a67-01f5-4f11-a690-06a3990396b5",
   "metadata": {},
   "outputs": [],
   "source": [
    "txt_features,labels=zip(*testing)\n",
    "\n",
    "prediction=nltk_ensemble.classify_many(txt_features)"
   ]
  },
  {
   "cell_type": "code",
   "execution_count": 31,
   "id": "32633343-152a-4391-acea-a56459ee3185",
   "metadata": {},
   "outputs": [
    {
     "name": "stdout",
     "output_type": "stream",
     "text": [
      "              precision    recall  f1-score   support\n",
      "\n",
      "           0       0.98      1.00      0.99      1210\n",
      "           1       0.99      0.89      0.94       183\n",
      "\n",
      "    accuracy                           0.98      1393\n",
      "   macro avg       0.99      0.94      0.96      1393\n",
      "weighted avg       0.98      0.98      0.98      1393\n",
      "\n"
     ]
    },
    {
     "data": {
      "text/html": [
       "<div>\n",
       "<style scoped>\n",
       "    .dataframe tbody tr th:only-of-type {\n",
       "        vertical-align: middle;\n",
       "    }\n",
       "\n",
       "    .dataframe tbody tr th {\n",
       "        vertical-align: top;\n",
       "    }\n",
       "\n",
       "    .dataframe thead tr th {\n",
       "        text-align: left;\n",
       "    }\n",
       "</style>\n",
       "<table border=\"1\" class=\"dataframe\">\n",
       "  <thead>\n",
       "    <tr>\n",
       "      <th></th>\n",
       "      <th></th>\n",
       "      <th colspan=\"2\" halign=\"left\">predicted</th>\n",
       "    </tr>\n",
       "    <tr>\n",
       "      <th></th>\n",
       "      <th></th>\n",
       "      <th>ham</th>\n",
       "      <th>spam</th>\n",
       "    </tr>\n",
       "  </thead>\n",
       "  <tbody>\n",
       "    <tr>\n",
       "      <th rowspan=\"2\" valign=\"top\">actual</th>\n",
       "      <th>ham</th>\n",
       "      <td>1208</td>\n",
       "      <td>2</td>\n",
       "    </tr>\n",
       "    <tr>\n",
       "      <th>spam</th>\n",
       "      <td>20</td>\n",
       "      <td>163</td>\n",
       "    </tr>\n",
       "  </tbody>\n",
       "</table>\n",
       "</div>"
      ],
      "text/plain": [
       "            predicted     \n",
       "                  ham spam\n",
       "actual ham       1208    2\n",
       "       spam        20  163"
      ]
     },
     "execution_count": 31,
     "metadata": {},
     "output_type": "execute_result"
    }
   ],
   "source": [
    "#print a classfication report and confusion matrix\n",
    "print(classification_report(labels,prediction))\n",
    "\n",
    "pd.DataFrame(confusion_matrix(labels,prediction),\n",
    "            index=[['actual','actual'],['ham','spam']],\n",
    "            columns=[['predicted','predicted'],['ham','spam']])"
   ]
  }
 ],
 "metadata": {
  "kernelspec": {
   "display_name": "Python 3",
   "language": "python",
   "name": "python3"
  },
  "language_info": {
   "codemirror_mode": {
    "name": "ipython",
    "version": 3
   },
   "file_extension": ".py",
   "mimetype": "text/x-python",
   "name": "python",
   "nbconvert_exporter": "python",
   "pygments_lexer": "ipython3",
   "version": "3.8.8"
  }
 },
 "nbformat": 4,
 "nbformat_minor": 5
}
